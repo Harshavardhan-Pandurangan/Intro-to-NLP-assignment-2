{
 "cells": [
  {
   "cell_type": "markdown",
   "metadata": {},
   "source": [
    "# INLP - Assignment 2\n",
    "## Harshavardhan P - 2021111003"
   ]
  },
  {
   "cell_type": "code",
   "execution_count": 22,
   "metadata": {},
   "outputs": [],
   "source": [
    "import torch\n",
    "import torch.nn as nn\n",
    "import conllu\n",
    "import pandas as pd"
   ]
  },
  {
   "cell_type": "markdown",
   "metadata": {},
   "source": [
    "## Importing Dataset"
   ]
  },
  {
   "cell_type": "code",
   "execution_count": 23,
   "metadata": {},
   "outputs": [
    {
     "name": "stdout",
     "output_type": "stream",
     "text": [
      "Number of sentences in training dataset:  4274\n",
      "Number of sentences in dev dataset:  572\n",
      "Number of sentences in test dataset:  586\n"
     ]
    }
   ],
   "source": [
    "# import conllu from dataset paths\n",
    "dataset_path_train = 'ud-treebanks-v2.13/UD_English-Atis/en_atis-ud-train.conllu'\n",
    "dataset_path_dev = 'ud-treebanks-v2.13/UD_English-Atis/en_atis-ud-dev.conllu'\n",
    "dataset_path_test = 'ud-treebanks-v2.13/UD_English-Atis/en_atis-ud-test.conllu'\n",
    "\n",
    "dataset_train = conllu.parse_incr(open(dataset_path_train))\n",
    "dataset_dev = conllu.parse_incr(open(dataset_path_dev))\n",
    "dataset_test = conllu.parse_incr(open(dataset_path_test))\n",
    "\n",
    "print(\"Number of sentences in training dataset: \", len(list(dataset_train)))\n",
    "print(\"Number of sentences in dev dataset: \", len(list(dataset_dev)))\n",
    "print(\"Number of sentences in test dataset: \", len(list(dataset_test)))"
   ]
  },
  {
   "cell_type": "code",
   "execution_count": 26,
   "metadata": {},
   "outputs": [
    {
     "name": "stdout",
     "output_type": "stream",
     "text": [
      "   id  form lemma  upos  xpos  \\\n",
      "0   1  what  what  PRON  None   \n",
      "1   2    is    be   AUX  None   \n",
      "2   3   the   the   DET  None   \n",
      "3   4  cost  cost  NOUN  None   \n",
      "4   5    of    of   ADP  None   \n",
      "\n",
      "                                               feats  head deprel  deps  misc  \n",
      "0                            {'PronType': 'Int,Rel'}     0   root  None  None  \n",
      "1  {'Mood': 'Ind', 'Number': 'Sing', 'Person': '3...     1    cop  None  None  \n",
      "2                                {'PronType': 'Art'}     4    det  None  None  \n",
      "3                                 {'Number': 'Sing'}     1  nsubj  None  None  \n",
      "4                                               None     7   case  None  None  \n"
     ]
    }
   ],
   "source": [
    "# bring the pointer back to the beginning of the file\n",
    "dataset_train = conllu.parse_incr(open(dataset_path_train))\n",
    "dataset_dev = conllu.parse_incr(open(dataset_path_dev))\n",
    "dataset_test = conllu.parse_incr(open(dataset_path_test))\n",
    "\n",
    "# convert this data to a pandas dataframe\n",
    "def conllu_to_pandas(dataset):\n",
    "    data = []\n",
    "    for tokenlist in dataset:\n",
    "        for token in tokenlist:\n",
    "            data.append(token)\n",
    "    return pd.DataFrame(data)\n",
    "\n",
    "df_train = conllu_to_pandas(dataset_train)\n",
    "df_dev = conllu_to_pandas(dataset_dev)\n",
    "df_test = conllu_to_pandas(dataset_test)\n",
    "\n",
    "print(df_train.head())"
   ]
  },
  {
   "cell_type": "code",
   "execution_count": 29,
   "metadata": {},
   "outputs": [
    {
     "name": "stdout",
     "output_type": "stream",
     "text": [
      "Number of unique words in the training set:  863\n"
     ]
    }
   ],
   "source": [
    "# create vocabulary of the words in the training set\n",
    "vocab = df_train['form'].unique()\n",
    "print(\"Number of unique words in the training set: \", len(vocab))"
   ]
  }
 ],
 "metadata": {
  "kernelspec": {
   "display_name": "smai",
   "language": "python",
   "name": "python3"
  },
  "language_info": {
   "codemirror_mode": {
    "name": "ipython",
    "version": 3
   },
   "file_extension": ".py",
   "mimetype": "text/x-python",
   "name": "python",
   "nbconvert_exporter": "python",
   "pygments_lexer": "ipython3",
   "version": "3.11.6"
  }
 },
 "nbformat": 4,
 "nbformat_minor": 2
}
